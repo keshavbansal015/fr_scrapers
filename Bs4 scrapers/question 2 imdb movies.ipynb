{
 "cells": [
  {
   "cell_type": "code",
   "execution_count": 1,
   "id": "c9fdef8e",
   "metadata": {},
   "outputs": [],
   "source": [
    "from bs4 import BeautifulSoup\n",
    "import requests\n",
    "import pandas as pd"
   ]
  },
  {
   "cell_type": "code",
   "execution_count": 2,
   "id": "74ccfe40",
   "metadata": {},
   "outputs": [],
   "source": [
    "url = 'https://www.imdb.com/'\n",
    "\n",
    "# get contents from url\n",
    "content = requests.get(url).content"
   ]
  },
  {
   "cell_type": "code",
   "execution_count": 3,
   "id": "2e506dcc",
   "metadata": {},
   "outputs": [],
   "source": [
    "# get soup\n",
    "soup = BeautifulSoup(content,'lxml') # lxml parser"
   ]
  },
  {
   "cell_type": "code",
   "execution_count": 15,
   "id": "12df8aee",
   "metadata": {},
   "outputs": [],
   "source": [
    "# links in nav-bar\n",
    "hamburger_links = soup.find_all('a', role=\"menuitem\", \n",
    "            class_=\"ipc-list__item nav-link NavLink-sc-19k0khm-0 dvLykY ipc-list__item--indent-one\")"
   ]
  },
  {
   "cell_type": "code",
   "execution_count": 5,
   "id": "75949a5a",
   "metadata": {
    "scrolled": true
   },
   "outputs": [
    {
     "name": "stdout",
     "output_type": "stream",
     "text": [
      "/chart/top/?ref_=nv_mv_250\n"
     ]
    }
   ],
   "source": [
    "# link for top rated movies\n",
    "for link in hamburger_links:\n",
    "    if (link.text == \"Top Rated Movies\"):\n",
    "        print(link['href'])\n",
    "        imdb_top_rated = link"
   ]
  },
  {
   "cell_type": "code",
   "execution_count": 6,
   "id": "1b3ccde1",
   "metadata": {},
   "outputs": [],
   "source": [
    "next_url = url+imdb_top_rated['href']"
   ]
  },
  {
   "cell_type": "code",
   "execution_count": 7,
   "id": "25789d0e",
   "metadata": {},
   "outputs": [],
   "source": [
    "next_url = url+imdb_top_rated['href']\n",
    "# get contents from next_url\n",
    "content = requests.get(next_url).content"
   ]
  },
  {
   "cell_type": "code",
   "execution_count": 8,
   "id": "554a7114",
   "metadata": {},
   "outputs": [],
   "source": [
    "soup = BeautifulSoup(content,'lxml')"
   ]
  },
  {
   "cell_type": "code",
   "execution_count": 9,
   "id": "f5e3ae56",
   "metadata": {
    "scrolled": true
   },
   "outputs": [],
   "source": [
    "tables = soup.find_all(\"table\", class_=\"chart full-width\")[0].find('tbody')\n",
    "rows = tables.find_all(\"tr\")[:100]"
   ]
  },
  {
   "cell_type": "code",
   "execution_count": 10,
   "id": "44b05fab",
   "metadata": {},
   "outputs": [],
   "source": [
    "names = []\n",
    "release_years = []\n",
    "ratings = []"
   ]
  },
  {
   "cell_type": "code",
   "execution_count": 11,
   "id": "b6857a0f",
   "metadata": {
    "scrolled": true
   },
   "outputs": [],
   "source": [
    "for row in rows:\n",
    "    row_data = row.find_all(\"td\")\n",
    "    name, release_year = row_data[1].text.split(\"\\n\")[-3:-1]\n",
    "    rating = row_data[2].text.strip()\n",
    "    names.append(name)\n",
    "    ratings.append(rating)\n",
    "    release_years.append(release_year)"
   ]
  },
  {
   "cell_type": "code",
   "execution_count": 12,
   "id": "80b0762c",
   "metadata": {},
   "outputs": [],
   "source": [
    "data_dict = {\n",
    "    \"Movies\" : names,\n",
    "    \"Realeased\" : release_years,\n",
    "    \"Rating\" : ratings\n",
    "}"
   ]
  },
  {
   "cell_type": "code",
   "execution_count": 13,
   "id": "bc22eab3",
   "metadata": {},
   "outputs": [],
   "source": [
    "df = pd.DataFrame(data_dict)"
   ]
  },
  {
   "cell_type": "code",
   "execution_count": 14,
   "id": "a4e4fc3c",
   "metadata": {},
   "outputs": [
    {
     "data": {
      "text/html": [
       "<div>\n",
       "<style scoped>\n",
       "    .dataframe tbody tr th:only-of-type {\n",
       "        vertical-align: middle;\n",
       "    }\n",
       "\n",
       "    .dataframe tbody tr th {\n",
       "        vertical-align: top;\n",
       "    }\n",
       "\n",
       "    .dataframe thead th {\n",
       "        text-align: right;\n",
       "    }\n",
       "</style>\n",
       "<table border=\"1\" class=\"dataframe\">\n",
       "  <thead>\n",
       "    <tr style=\"text-align: right;\">\n",
       "      <th></th>\n",
       "      <th>Movies</th>\n",
       "      <th>Realeased</th>\n",
       "      <th>Rating</th>\n",
       "    </tr>\n",
       "  </thead>\n",
       "  <tbody>\n",
       "    <tr>\n",
       "      <th>0</th>\n",
       "      <td>The Shawshank Redemption</td>\n",
       "      <td>(1994)</td>\n",
       "      <td>9.2</td>\n",
       "    </tr>\n",
       "    <tr>\n",
       "      <th>1</th>\n",
       "      <td>The Godfather</td>\n",
       "      <td>(1972)</td>\n",
       "      <td>9.1</td>\n",
       "    </tr>\n",
       "    <tr>\n",
       "      <th>2</th>\n",
       "      <td>The Godfather: Part II</td>\n",
       "      <td>(1974)</td>\n",
       "      <td>9.0</td>\n",
       "    </tr>\n",
       "    <tr>\n",
       "      <th>3</th>\n",
       "      <td>The Dark Knight</td>\n",
       "      <td>(2008)</td>\n",
       "      <td>9.0</td>\n",
       "    </tr>\n",
       "    <tr>\n",
       "      <th>4</th>\n",
       "      <td>12 Angry Men</td>\n",
       "      <td>(1957)</td>\n",
       "      <td>8.9</td>\n",
       "    </tr>\n",
       "  </tbody>\n",
       "</table>\n",
       "</div>"
      ],
      "text/plain": [
       "                           Movies Realeased Rating\n",
       "0        The Shawshank Redemption    (1994)    9.2\n",
       "1                   The Godfather    (1972)    9.1\n",
       "2          The Godfather: Part II    (1974)    9.0\n",
       "3                 The Dark Knight    (2008)    9.0\n",
       "4                    12 Angry Men    (1957)    8.9"
      ]
     },
     "execution_count": 14,
     "metadata": {},
     "output_type": "execute_result"
    }
   ],
   "source": [
    "df.head()"
   ]
  }
 ],
 "metadata": {
  "kernelspec": {
   "display_name": "Python 3 (ipykernel)",
   "language": "python",
   "name": "python3"
  },
  "language_info": {
   "codemirror_mode": {
    "name": "ipython",
    "version": 3
   },
   "file_extension": ".py",
   "mimetype": "text/x-python",
   "name": "python",
   "nbconvert_exporter": "python",
   "pygments_lexer": "ipython3",
   "version": "3.9.5"
  }
 },
 "nbformat": 4,
 "nbformat_minor": 5
}
