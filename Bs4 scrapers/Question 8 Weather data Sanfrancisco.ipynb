{
 "cells": [
  {
   "cell_type": "code",
   "execution_count": 1,
   "id": "59a9b3b2",
   "metadata": {},
   "outputs": [],
   "source": [
    "from bs4 import BeautifulSoup\n",
    "import requests\n",
    "import pandas as pd\n",
    "from datetime import datetime, timedelta"
   ]
  },
  {
   "cell_type": "code",
   "execution_count": 2,
   "id": "5faf584b",
   "metadata": {},
   "outputs": [],
   "source": [
    "url = \"https://forecast.weather.gov/MapClick.php?lat=37.77493000000004&lon=-122.41941999999995\""
   ]
  },
  {
   "cell_type": "code",
   "execution_count": 3,
   "id": "a3bbc9ed",
   "metadata": {},
   "outputs": [],
   "source": [
    "content = requests.get(url).content\n",
    "# get soup\n",
    "soup = BeautifulSoup(content,'html.parser') # lxml parser"
   ]
  },
  {
   "cell_type": "code",
   "execution_count": 4,
   "id": "ae3c2656",
   "metadata": {},
   "outputs": [],
   "source": [
    "weather_table = soup.find_all('div',class_=\"panel-body\")[2] #{id:\"detailed-forecast-body\"})"
   ]
  },
  {
   "cell_type": "code",
   "execution_count": 5,
   "id": "fb61bc96",
   "metadata": {},
   "outputs": [],
   "source": [
    "weather_data_rows = weather_table.find_all(\"div\", class_=\"row-forecast\")"
   ]
  },
  {
   "cell_type": "code",
   "execution_count": 6,
   "id": "f4b09b8f",
   "metadata": {},
   "outputs": [
    {
     "data": {
      "text/plain": [
       "14"
      ]
     },
     "execution_count": 6,
     "metadata": {},
     "output_type": "execute_result"
    }
   ],
   "source": [
    "len(weather_data_rows)"
   ]
  },
  {
   "cell_type": "code",
   "execution_count": 7,
   "id": "42acc2df",
   "metadata": {},
   "outputs": [],
   "source": [
    "day_nights = []\n",
    "descriptions = []\n",
    "temperatures = []\n",
    "\n",
    "for each in weather_data_rows:\n",
    "    col_data = each.find_all(\"div\")\n",
    "    day_night = col_data[0].text\n",
    "    description = col_data[1].text\n",
    "    day_nights.append(day_night)\n",
    "    descriptions.append(description)\n",
    "#     print(day_night,\":\", description)\n",
    "#     print()"
   ]
  },
  {
   "cell_type": "code",
   "execution_count": 8,
   "id": "a6609bfb",
   "metadata": {},
   "outputs": [],
   "source": [
    "temperatures = []\n",
    "for each in descriptions:\n",
    "    temperature = each.split(\".\")[0][-2:]\n",
    "#     print(temperature)\n",
    "    temperatures.append(temperature)"
   ]
  },
  {
   "cell_type": "code",
   "execution_count": 9,
   "id": "b1dc1565",
   "metadata": {},
   "outputs": [],
   "source": [
    "short_descs = []\n",
    "for each in descriptions:\n",
    "    short_desc = each.split(\",\")[0]\n",
    "    short_descs.append(short_desc)\n",
    "#     print(short_desc)"
   ]
  },
  {
   "cell_type": "code",
   "execution_count": 10,
   "id": "e11f83d9",
   "metadata": {},
   "outputs": [],
   "source": [
    "sf_time = datetime.today() - timedelta(hours=12, minutes=30)\n",
    "periods = []\n",
    "for each in range(len(day_nights)):\n",
    "    period = (sf_time + timedelta(hours = each*12)).strftime(\"%a %d, %b\")\n",
    "    periods.append(period)\n",
    "#     print(period)"
   ]
  },
  {
   "cell_type": "code",
   "execution_count": 11,
   "id": "e44b7418",
   "metadata": {},
   "outputs": [],
   "source": [
    "data_dict = {\n",
    "    \"Period\" : periods,\n",
    "    \"Short Desc\" : short_descs,\n",
    "    \"Temperature\" : temperatures,\n",
    "    \"Description\" : descriptions\n",
    "}"
   ]
  },
  {
   "cell_type": "code",
   "execution_count": 12,
   "id": "192387e4",
   "metadata": {
    "scrolled": true
   },
   "outputs": [],
   "source": [
    "df = pd.DataFrame(data_dict)\n",
    "df.index = df.index+1\n",
    "df['Day Time'] = \"Day\""
   ]
  },
  {
   "cell_type": "code",
   "execution_count": 13,
   "id": "314f3368",
   "metadata": {},
   "outputs": [],
   "source": [
    "for index in range(len(df)):\n",
    "    if (index%2!=0):\n",
    "        df.at[index,\"Day Time\"] = \"Night\""
   ]
  },
  {
   "cell_type": "code",
   "execution_count": 14,
   "id": "97d21101",
   "metadata": {
    "scrolled": true
   },
   "outputs": [
    {
     "data": {
      "text/html": [
       "<div>\n",
       "<style scoped>\n",
       "    .dataframe tbody tr th:only-of-type {\n",
       "        vertical-align: middle;\n",
       "    }\n",
       "\n",
       "    .dataframe tbody tr th {\n",
       "        vertical-align: top;\n",
       "    }\n",
       "\n",
       "    .dataframe thead th {\n",
       "        text-align: right;\n",
       "    }\n",
       "</style>\n",
       "<table border=\"1\" class=\"dataframe\">\n",
       "  <thead>\n",
       "    <tr style=\"text-align: right;\">\n",
       "      <th></th>\n",
       "      <th>Period</th>\n",
       "      <th>Short Desc</th>\n",
       "      <th>Temperature</th>\n",
       "      <th>Description</th>\n",
       "      <th>Day Time</th>\n",
       "    </tr>\n",
       "  </thead>\n",
       "  <tbody>\n",
       "    <tr>\n",
       "      <th>1</th>\n",
       "      <td>Wed 25, Aug</td>\n",
       "      <td>Mostly cloudy</td>\n",
       "      <td>54</td>\n",
       "      <td>Mostly cloudy, with a low around 54. West wind...</td>\n",
       "      <td>Night</td>\n",
       "    </tr>\n",
       "    <tr>\n",
       "      <th>2</th>\n",
       "      <td>Wed 25, Aug</td>\n",
       "      <td>Cloudy through mid morning</td>\n",
       "      <td>66</td>\n",
       "      <td>Cloudy through mid morning, then gradual clear...</td>\n",
       "      <td>Day</td>\n",
       "    </tr>\n",
       "    <tr>\n",
       "      <th>3</th>\n",
       "      <td>Thu 26, Aug</td>\n",
       "      <td>Partly cloudy</td>\n",
       "      <td>55</td>\n",
       "      <td>Partly cloudy, with a low around 55. Breezy, w...</td>\n",
       "      <td>Night</td>\n",
       "    </tr>\n",
       "    <tr>\n",
       "      <th>4</th>\n",
       "      <td>Thu 26, Aug</td>\n",
       "      <td>Sunny</td>\n",
       "      <td>72</td>\n",
       "      <td>Sunny, with a high near 72. Light south southe...</td>\n",
       "      <td>Day</td>\n",
       "    </tr>\n",
       "    <tr>\n",
       "      <th>5</th>\n",
       "      <td>Fri 27, Aug</td>\n",
       "      <td>Mostly clear</td>\n",
       "      <td>57</td>\n",
       "      <td>Mostly clear, with a low around 57. Southwest ...</td>\n",
       "      <td>Night</td>\n",
       "    </tr>\n",
       "    <tr>\n",
       "      <th>6</th>\n",
       "      <td>Fri 27, Aug</td>\n",
       "      <td>Sunny</td>\n",
       "      <td>74</td>\n",
       "      <td>Sunny, with a high near 74.</td>\n",
       "      <td>Day</td>\n",
       "    </tr>\n",
       "    <tr>\n",
       "      <th>7</th>\n",
       "      <td>Sat 28, Aug</td>\n",
       "      <td>Mostly clear</td>\n",
       "      <td>57</td>\n",
       "      <td>Mostly clear, with a low around 57.</td>\n",
       "      <td>Night</td>\n",
       "    </tr>\n",
       "    <tr>\n",
       "      <th>8</th>\n",
       "      <td>Sat 28, Aug</td>\n",
       "      <td>Sunny</td>\n",
       "      <td>76</td>\n",
       "      <td>Sunny, with a high near 76.</td>\n",
       "      <td>Day</td>\n",
       "    </tr>\n",
       "    <tr>\n",
       "      <th>9</th>\n",
       "      <td>Sun 29, Aug</td>\n",
       "      <td>Mostly clear</td>\n",
       "      <td>58</td>\n",
       "      <td>Mostly clear, with a low around 58.</td>\n",
       "      <td>Night</td>\n",
       "    </tr>\n",
       "    <tr>\n",
       "      <th>10</th>\n",
       "      <td>Sun 29, Aug</td>\n",
       "      <td>Sunny</td>\n",
       "      <td>72</td>\n",
       "      <td>Sunny, with a high near 72.</td>\n",
       "      <td>Day</td>\n",
       "    </tr>\n",
       "    <tr>\n",
       "      <th>11</th>\n",
       "      <td>Mon 30, Aug</td>\n",
       "      <td>Partly cloudy</td>\n",
       "      <td>57</td>\n",
       "      <td>Partly cloudy, with a low around 57.</td>\n",
       "      <td>Night</td>\n",
       "    </tr>\n",
       "    <tr>\n",
       "      <th>12</th>\n",
       "      <td>Mon 30, Aug</td>\n",
       "      <td>Sunny</td>\n",
       "      <td>72</td>\n",
       "      <td>Sunny, with a high near 72.</td>\n",
       "      <td>Day</td>\n",
       "    </tr>\n",
       "    <tr>\n",
       "      <th>13</th>\n",
       "      <td>Tue 31, Aug</td>\n",
       "      <td>Partly cloudy</td>\n",
       "      <td>56</td>\n",
       "      <td>Partly cloudy, with a low around 56.</td>\n",
       "      <td>Night</td>\n",
       "    </tr>\n",
       "    <tr>\n",
       "      <th>14</th>\n",
       "      <td>Tue 31, Aug</td>\n",
       "      <td>Sunny</td>\n",
       "      <td>69</td>\n",
       "      <td>Sunny, with a high near 69.</td>\n",
       "      <td>Day</td>\n",
       "    </tr>\n",
       "  </tbody>\n",
       "</table>\n",
       "</div>"
      ],
      "text/plain": [
       "         Period                  Short Desc Temperature  \\\n",
       "1   Wed 25, Aug               Mostly cloudy          54   \n",
       "2   Wed 25, Aug  Cloudy through mid morning          66   \n",
       "3   Thu 26, Aug               Partly cloudy          55   \n",
       "4   Thu 26, Aug                       Sunny          72   \n",
       "5   Fri 27, Aug                Mostly clear          57   \n",
       "6   Fri 27, Aug                       Sunny          74   \n",
       "7   Sat 28, Aug                Mostly clear          57   \n",
       "8   Sat 28, Aug                       Sunny          76   \n",
       "9   Sun 29, Aug                Mostly clear          58   \n",
       "10  Sun 29, Aug                       Sunny          72   \n",
       "11  Mon 30, Aug               Partly cloudy          57   \n",
       "12  Mon 30, Aug                       Sunny          72   \n",
       "13  Tue 31, Aug               Partly cloudy          56   \n",
       "14  Tue 31, Aug                       Sunny          69   \n",
       "\n",
       "                                          Description Day Time  \n",
       "1   Mostly cloudy, with a low around 54. West wind...    Night  \n",
       "2   Cloudy through mid morning, then gradual clear...      Day  \n",
       "3   Partly cloudy, with a low around 55. Breezy, w...    Night  \n",
       "4   Sunny, with a high near 72. Light south southe...      Day  \n",
       "5   Mostly clear, with a low around 57. Southwest ...    Night  \n",
       "6                         Sunny, with a high near 74.      Day  \n",
       "7                 Mostly clear, with a low around 57.    Night  \n",
       "8                         Sunny, with a high near 76.      Day  \n",
       "9                 Mostly clear, with a low around 58.    Night  \n",
       "10                        Sunny, with a high near 72.      Day  \n",
       "11               Partly cloudy, with a low around 57.    Night  \n",
       "12                        Sunny, with a high near 72.      Day  \n",
       "13               Partly cloudy, with a low around 56.    Night  \n",
       "14                        Sunny, with a high near 69.      Day  "
      ]
     },
     "execution_count": 14,
     "metadata": {},
     "output_type": "execute_result"
    }
   ],
   "source": [
    "df.head(20)"
   ]
  },
  {
   "cell_type": "code",
   "execution_count": null,
   "id": "afcc1121",
   "metadata": {},
   "outputs": [],
   "source": []
  },
  {
   "cell_type": "code",
   "execution_count": null,
   "id": "31761981",
   "metadata": {},
   "outputs": [],
   "source": []
  },
  {
   "cell_type": "code",
   "execution_count": null,
   "id": "699ad8b9",
   "metadata": {},
   "outputs": [],
   "source": []
  },
  {
   "cell_type": "code",
   "execution_count": null,
   "id": "14f4c19f",
   "metadata": {},
   "outputs": [],
   "source": []
  },
  {
   "cell_type": "code",
   "execution_count": null,
   "id": "a5c594c3",
   "metadata": {},
   "outputs": [],
   "source": []
  },
  {
   "cell_type": "code",
   "execution_count": null,
   "id": "0c3eaaf5",
   "metadata": {},
   "outputs": [],
   "source": []
  },
  {
   "cell_type": "code",
   "execution_count": null,
   "id": "a9803d7f",
   "metadata": {},
   "outputs": [],
   "source": []
  },
  {
   "cell_type": "code",
   "execution_count": null,
   "id": "78f4e549",
   "metadata": {},
   "outputs": [],
   "source": []
  },
  {
   "cell_type": "code",
   "execution_count": null,
   "id": "aee99222",
   "metadata": {},
   "outputs": [],
   "source": []
  },
  {
   "cell_type": "code",
   "execution_count": null,
   "id": "5e4e22e9",
   "metadata": {},
   "outputs": [],
   "source": []
  }
 ],
 "metadata": {
  "kernelspec": {
   "display_name": "Python 3 (ipykernel)",
   "language": "python",
   "name": "python3"
  },
  "language_info": {
   "codemirror_mode": {
    "name": "ipython",
    "version": 3
   },
   "file_extension": ".py",
   "mimetype": "text/x-python",
   "name": "python",
   "nbconvert_exporter": "python",
   "pygments_lexer": "ipython3",
   "version": "3.9.5"
  }
 },
 "nbformat": 4,
 "nbformat_minor": 5
}
