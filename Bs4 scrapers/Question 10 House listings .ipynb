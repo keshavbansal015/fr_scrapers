{
 "cells": [
  {
   "cell_type": "code",
   "execution_count": 1,
   "id": "ef2eaceb",
   "metadata": {},
   "outputs": [],
   "source": [
    "from bs4 import BeautifulSoup\n",
    "import requests\n",
    "import pandas as pd"
   ]
  },
  {
   "cell_type": "code",
   "execution_count": 2,
   "id": "3fb786c5",
   "metadata": {},
   "outputs": [],
   "source": [
    "url = \"https://www.nobroker.in/\""
   ]
  },
  {
   "cell_type": "code",
   "execution_count": 3,
   "id": "2685bb2b",
   "metadata": {},
   "outputs": [],
   "source": [
    "content = requests.get(url).content\n",
    "soup = BeautifulSoup(content,\"lxml\")"
   ]
  },
  {
   "cell_type": "code",
   "execution_count": 4,
   "id": "60f9e803",
   "metadata": {},
   "outputs": [],
   "source": [
    "listings_links = soup.find_all(\"div\", class_=\"nb__CBhPh\")"
   ]
  },
  {
   "cell_type": "code",
   "execution_count": 5,
   "id": "150f6fcb",
   "metadata": {},
   "outputs": [],
   "source": [
    "# all the links for listings along with area\n",
    "descriptions = []\n",
    "links = []\n",
    "\n",
    "for each in listings_links:\n",
    "    block_data = each.find_all(\"div\",'nb__2OcRd')[0]\n",
    "    location_listing_links = block_data.find_all(\"a\",class_=\"nb__1pJSa\")\n",
    "    for each_ in location_listing_links:\n",
    "        descriptions.append(each_.text.strip())\n",
    "        links.append(each_['href'])"
   ]
  },
  {
   "cell_type": "code",
   "execution_count": 6,
   "id": "6db17977",
   "metadata": {},
   "outputs": [],
   "source": [
    "# just getting the top link\n",
    "next_url = url + links[0]\n",
    "\n",
    "content = requests.get(next_url).content\n",
    "soup = BeautifulSoup(content,\"lxml\")"
   ]
  },
  {
   "cell_type": "code",
   "execution_count": 7,
   "id": "c1c99621",
   "metadata": {},
   "outputs": [],
   "source": [
    "# listings block\n",
    "listings = soup.find_all(\"div\",class_=\"nb___msB2\")[0]"
   ]
  },
  {
   "cell_type": "code",
   "execution_count": 8,
   "id": "17ad6b3c",
   "metadata": {},
   "outputs": [],
   "source": [
    "listCardContainer = listings.find_all('article')"
   ]
  },
  {
   "cell_type": "code",
   "execution_count": 9,
   "id": "d7058915",
   "metadata": {},
   "outputs": [],
   "source": [
    "house_titles = []\n",
    "locations = []\n",
    "areas = []\n",
    "emis = []\n",
    "prices = []"
   ]
  },
  {
   "cell_type": "code",
   "execution_count": 10,
   "id": "fd3c6e49",
   "metadata": {
    "scrolled": true
   },
   "outputs": [
    {
     "name": "stdout",
     "output_type": "stream",
     "text": [
      "~~~~~~~~~~~~~~~~~~~~~~~~~~~~~~~~~~~~~~~~~~~\n",
      "House Title:  2 BHK In Independent House  For Sale  In Koramangala\n",
      "Location:  Independent House, 7th B cross near Koramangala BDA Complex\n",
      "Area:  2,000 sqft\n",
      "EMI:  ₹3.55 Lacs/Month\n",
      "Price ₹6.2 Crores\n",
      "~~~~~~~~~~~~~~~~~~~~~~~~~~~~~~~~~~~~~~~~~~~\n",
      "~~~~~~~~~~~~~~~~~~~~~~~~~~~~~~~~~~~~~~~~~~~\n",
      "House Title:  2 BHK Flat  For Sale  In Bilden Swarganga In Koramangala\n",
      "Location:  1st Block Koramangala, Bengaluru, Karnataka 560034, India\n",
      "Area:  1,150 sqft\n",
      "EMI:  ₹41,266/Month\n",
      "Price ₹72 Lacs\n",
      "~~~~~~~~~~~~~~~~~~~~~~~~~~~~~~~~~~~~~~~~~~~\n",
      "~~~~~~~~~~~~~~~~~~~~~~~~~~~~~~~~~~~~~~~~~~~\n",
      "House Title:  3 BHK Flat  For Sale  In Raheja Residency, Koramangala In Koramangala\n",
      "Location:  7th Cross Rd, 3rd Block, Koramangala 1A Block, Koramangala 3 Block, Koramangala, Bengaluru, Karnataka 560034, India\n",
      "Area:  1,695 sqft\n",
      "EMI:  ₹1.03 Lacs/Month\n",
      "Price ₹1.79 Crores\n",
      "~~~~~~~~~~~~~~~~~~~~~~~~~~~~~~~~~~~~~~~~~~~\n",
      "~~~~~~~~~~~~~~~~~~~~~~~~~~~~~~~~~~~~~~~~~~~\n",
      "House Title:  2 BHK Flat  For Sale  In Dhanush Shree Homes, Koramangala In Koramangala\n",
      "Location:  Near HDFC Bank, Koramangala 1st Block.\n",
      "Area:  1,600 sqft\n",
      "EMI:  ₹67,057/Month\n",
      "Price ₹1.17 Crores\n",
      "~~~~~~~~~~~~~~~~~~~~~~~~~~~~~~~~~~~~~~~~~~~\n",
      "~~~~~~~~~~~~~~~~~~~~~~~~~~~~~~~~~~~~~~~~~~~\n",
      "House Title:  4+ BHK Flat  For Sale  In Shree Lakshmi Venkata Sai Construction In Cauvery Colony\n",
      "Location:  S.T. Bed Extension Near Muneshwara Swamy Temple\n",
      "Area:  9,600 sqft\n",
      "EMI:  ₹3.15 Lacs/Month\n",
      "Price ₹5.5 Crores\n",
      "~~~~~~~~~~~~~~~~~~~~~~~~~~~~~~~~~~~~~~~~~~~\n",
      "~~~~~~~~~~~~~~~~~~~~~~~~~~~~~~~~~~~~~~~~~~~\n",
      "House Title:  2 BHK Flat  For Sale  In Shree Lakshmi Venkata Sai Construction In Cauvery Colony\n",
      "Location:  S.T. Bed Extension Near Muneshwara Swamy Temple\n",
      "Area:  1,200 sqft\n",
      "EMI:  ₹42,985/Month\n",
      "Price ₹75 Lacs\n",
      "~~~~~~~~~~~~~~~~~~~~~~~~~~~~~~~~~~~~~~~~~~~\n",
      "~~~~~~~~~~~~~~~~~~~~~~~~~~~~~~~~~~~~~~~~~~~\n",
      "House Title:  2 BHK Flat  For Sale  In Shree Lakshmi Venkata Sai Construction In Cauvery Colony\n",
      "Location:  S.T. Bed Extension Near Muneshwara Swamy Temple\n",
      "Area:  1,200 sqft\n",
      "EMI:  ₹48,717/Month\n",
      "Price ₹85 Lacs\n",
      "~~~~~~~~~~~~~~~~~~~~~~~~~~~~~~~~~~~~~~~~~~~\n",
      "~~~~~~~~~~~~~~~~~~~~~~~~~~~~~~~~~~~~~~~~~~~\n",
      "House Title:  2 BHK Flat  For Sale  In Shree Lakshmi Venkata Sai Construction In Cauvery Colony\n",
      "Location:  S.T. Bed Extension Near Muneshwara Swamy Temple\n",
      "Area:  1,200 sqft\n",
      "EMI:  ₹45,851/Month\n",
      "Price ₹80 Lacs\n",
      "~~~~~~~~~~~~~~~~~~~~~~~~~~~~~~~~~~~~~~~~~~~\n",
      "~~~~~~~~~~~~~~~~~~~~~~~~~~~~~~~~~~~~~~~~~~~\n",
      "House Title:  4 BHK Flat  For Sale  In Sterling Infinia In Koramangala\n",
      "Location:  Sterling Infinia  Sarjapur Main Rd, Jakkasandra Extension, Koramangala, Bengaluru, Karnataka 560034, India\n",
      "Area:  3,233 sqft\n",
      "EMI:  ₹2.24 Lacs/Month\n",
      "Price ₹3.9 Crores\n",
      "~~~~~~~~~~~~~~~~~~~~~~~~~~~~~~~~~~~~~~~~~~~\n",
      "~~~~~~~~~~~~~~~~~~~~~~~~~~~~~~~~~~~~~~~~~~~\n",
      "House Title:  2 BHK Flat  For Sale  In National Games Village Complex In Koramangala\n",
      "Location:  National Games Village Complex  National Games Village Complex\n",
      "Area:  1,468 sqft\n",
      "EMI:  ₹54,448/Month\n",
      "Price ₹95 Lacs\n",
      "~~~~~~~~~~~~~~~~~~~~~~~~~~~~~~~~~~~~~~~~~~~\n"
     ]
    }
   ],
   "source": [
    "for each in listCardContainer:\n",
    "    print(\"~~~~~~~~~~~~~~~~~~~~~~~~~~~~~~~~~~~~~~~~~~~\")\n",
    "\n",
    "    posting = each.find_all(\"div\",class_=\"nb__2JHKO\")[0]\n",
    "    section = posting.find('section')\n",
    "\n",
    "#     house title, location \n",
    "    section_1 = section.find_all('div', class_=\"nb__sDz3z\")[0]\n",
    "    section_2 = section_1.find('a')['title']\n",
    "    house_titles.append(section_2)\n",
    "    print(\"House Title: \",section_2)\n",
    "    \n",
    "    section_3 = section_1.find('div').find('div').text.strip()\n",
    "    print(\"Location: \", section_3)\n",
    "    locations.append(section_3)\n",
    "    \n",
    "#     area, emi and price\n",
    "    div_element = posting.find(\"div\", class_=\"nb__2mJqs\")\n",
    "    div_element_1 = div_element.find_all('div', class_=\"nb__17R6o\")[0]\n",
    "    div_elements_2 = div_element_1.find_all('div', class_=\"nb__2NPHR\")[1:]\n",
    "    \n",
    "#     area\n",
    "    data_1 = div_elements_2[0]\n",
    "    area = data_1.find('div').find_all('div')[0].text.strip()\n",
    "    areas.append(area)\n",
    "    print(\"Area: \", area)\n",
    "    \n",
    "#     emi\n",
    "    data_2 = div_elements_2[1]\n",
    "    emi = data_2.find('div').text.strip()\n",
    "    emis.append(emi)\n",
    "    print(\"EMI: \", emi)\n",
    "\n",
    "    \n",
    "#     price\n",
    "    data_3 = div_elements_2[2]\n",
    "    price = data_3.find('div').text.strip()\n",
    "    prices.append(price)\n",
    "    print(\"Price\",price)\n",
    "    print(\"~~~~~~~~~~~~~~~~~~~~~~~~~~~~~~~~~~~~~~~~~~~\")\n",
    "    \n",
    "    "
   ]
  },
  {
   "cell_type": "code",
   "execution_count": 11,
   "id": "dfa87c25",
   "metadata": {},
   "outputs": [],
   "source": [
    "data_dict = {\n",
    "    \"Title\" : house_titles,\n",
    "    \"Location\" : locations,\n",
    "    \"Area\" : areas,\n",
    "    \"EMI\" : emis,\n",
    "    \"Price\" : prices\n",
    "}"
   ]
  },
  {
   "cell_type": "code",
   "execution_count": 12,
   "id": "3f8c8d6e",
   "metadata": {},
   "outputs": [
    {
     "data": {
      "text/html": [
       "<div>\n",
       "<style scoped>\n",
       "    .dataframe tbody tr th:only-of-type {\n",
       "        vertical-align: middle;\n",
       "    }\n",
       "\n",
       "    .dataframe tbody tr th {\n",
       "        vertical-align: top;\n",
       "    }\n",
       "\n",
       "    .dataframe thead th {\n",
       "        text-align: right;\n",
       "    }\n",
       "</style>\n",
       "<table border=\"1\" class=\"dataframe\">\n",
       "  <thead>\n",
       "    <tr style=\"text-align: right;\">\n",
       "      <th></th>\n",
       "      <th>Title</th>\n",
       "      <th>Location</th>\n",
       "      <th>Area</th>\n",
       "      <th>EMI</th>\n",
       "      <th>Price</th>\n",
       "    </tr>\n",
       "  </thead>\n",
       "  <tbody>\n",
       "    <tr>\n",
       "      <th>1</th>\n",
       "      <td>2 BHK In Independent House  For Sale  In Koram...</td>\n",
       "      <td>Independent House, 7th B cross near Koramangal...</td>\n",
       "      <td>2,000 sqft</td>\n",
       "      <td>₹3.55 Lacs/Month</td>\n",
       "      <td>₹6.2 Crores</td>\n",
       "    </tr>\n",
       "    <tr>\n",
       "      <th>2</th>\n",
       "      <td>2 BHK Flat  For Sale  In Bilden Swarganga In K...</td>\n",
       "      <td>1st Block Koramangala, Bengaluru, Karnataka 56...</td>\n",
       "      <td>1,150 sqft</td>\n",
       "      <td>₹41,266/Month</td>\n",
       "      <td>₹72 Lacs</td>\n",
       "    </tr>\n",
       "    <tr>\n",
       "      <th>3</th>\n",
       "      <td>3 BHK Flat  For Sale  In Raheja Residency, Kor...</td>\n",
       "      <td>7th Cross Rd, 3rd Block, Koramangala 1A Block,...</td>\n",
       "      <td>1,695 sqft</td>\n",
       "      <td>₹1.03 Lacs/Month</td>\n",
       "      <td>₹1.79 Crores</td>\n",
       "    </tr>\n",
       "    <tr>\n",
       "      <th>4</th>\n",
       "      <td>2 BHK Flat  For Sale  In Dhanush Shree Homes, ...</td>\n",
       "      <td>Near HDFC Bank, Koramangala 1st Block.</td>\n",
       "      <td>1,600 sqft</td>\n",
       "      <td>₹67,057/Month</td>\n",
       "      <td>₹1.17 Crores</td>\n",
       "    </tr>\n",
       "    <tr>\n",
       "      <th>5</th>\n",
       "      <td>4+ BHK Flat  For Sale  In Shree Lakshmi Venkat...</td>\n",
       "      <td>S.T. Bed Extension Near Muneshwara Swamy Temple</td>\n",
       "      <td>9,600 sqft</td>\n",
       "      <td>₹3.15 Lacs/Month</td>\n",
       "      <td>₹5.5 Crores</td>\n",
       "    </tr>\n",
       "  </tbody>\n",
       "</table>\n",
       "</div>"
      ],
      "text/plain": [
       "                                               Title  \\\n",
       "1  2 BHK In Independent House  For Sale  In Koram...   \n",
       "2  2 BHK Flat  For Sale  In Bilden Swarganga In K...   \n",
       "3  3 BHK Flat  For Sale  In Raheja Residency, Kor...   \n",
       "4  2 BHK Flat  For Sale  In Dhanush Shree Homes, ...   \n",
       "5  4+ BHK Flat  For Sale  In Shree Lakshmi Venkat...   \n",
       "\n",
       "                                            Location        Area  \\\n",
       "1  Independent House, 7th B cross near Koramangal...  2,000 sqft   \n",
       "2  1st Block Koramangala, Bengaluru, Karnataka 56...  1,150 sqft   \n",
       "3  7th Cross Rd, 3rd Block, Koramangala 1A Block,...  1,695 sqft   \n",
       "4             Near HDFC Bank, Koramangala 1st Block.  1,600 sqft   \n",
       "5    S.T. Bed Extension Near Muneshwara Swamy Temple  9,600 sqft   \n",
       "\n",
       "                EMI         Price  \n",
       "1  ₹3.55 Lacs/Month   ₹6.2 Crores  \n",
       "2     ₹41,266/Month      ₹72 Lacs  \n",
       "3  ₹1.03 Lacs/Month  ₹1.79 Crores  \n",
       "4     ₹67,057/Month  ₹1.17 Crores  \n",
       "5  ₹3.15 Lacs/Month   ₹5.5 Crores  "
      ]
     },
     "execution_count": 12,
     "metadata": {},
     "output_type": "execute_result"
    }
   ],
   "source": [
    "df = pd.DataFrame(data_dict)\n",
    "df.index = df.index+1\n",
    "df.head()"
   ]
  },
  {
   "cell_type": "code",
   "execution_count": null,
   "id": "e637cb0f",
   "metadata": {},
   "outputs": [],
   "source": []
  },
  {
   "cell_type": "code",
   "execution_count": null,
   "id": "c4618f43",
   "metadata": {},
   "outputs": [],
   "source": []
  },
  {
   "cell_type": "code",
   "execution_count": null,
   "id": "34879a61",
   "metadata": {},
   "outputs": [],
   "source": []
  }
 ],
 "metadata": {
  "kernelspec": {
   "display_name": "Python 3 (ipykernel)",
   "language": "python",
   "name": "python3"
  },
  "language_info": {
   "codemirror_mode": {
    "name": "ipython",
    "version": 3
   },
   "file_extension": ".py",
   "mimetype": "text/x-python",
   "name": "python",
   "nbconvert_exporter": "python",
   "pygments_lexer": "ipython3",
   "version": "3.9.5"
  }
 },
 "nbformat": 4,
 "nbformat_minor": 5
}
