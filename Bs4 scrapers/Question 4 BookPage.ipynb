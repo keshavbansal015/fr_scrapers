{
 "cells": [
  {
   "cell_type": "code",
   "execution_count": 1,
   "id": "095895de",
   "metadata": {},
   "outputs": [],
   "source": [
    "from bs4 import BeautifulSoup, SoupStrainer\n",
    "import requests\n",
    "import pandas as pd"
   ]
  },
  {
   "cell_type": "code",
   "execution_count": 2,
   "id": "ed154874",
   "metadata": {},
   "outputs": [],
   "source": [
    "url = 'https://bookpage.com/'\n",
    "\n",
    "# get contents from url\n",
    "content = requests.get(url).content\n",
    "# get soup\n",
    "soup = BeautifulSoup(content,'lxml') # lxml parser"
   ]
  },
  {
   "cell_type": "code",
   "execution_count": 3,
   "id": "e8519aef",
   "metadata": {},
   "outputs": [],
   "source": [
    "# in the nav bar\n",
    "nav_collapse = soup.find('div', class_=\"nav-collapse\")"
   ]
  },
  {
   "cell_type": "code",
   "execution_count": 4,
   "id": "c05dfc40",
   "metadata": {},
   "outputs": [],
   "source": [
    "# book reviews -> All reviews\n",
    "reviews = nav_collapse.find('li', class_=\"dropdown\")\n",
    "all_reviews = reviews.find('li').find('a')\n",
    "# next url /reviews\n",
    "next_url = url + all_reviews['href']"
   ]
  },
  {
   "cell_type": "code",
   "execution_count": 5,
   "id": "cada046c",
   "metadata": {},
   "outputs": [],
   "source": [
    "# get contents from url\n",
    "content = requests.get(next_url).content\n",
    "# get soup\n",
    "soup = BeautifulSoup(content,'lxml') # lxml parser"
   ]
  },
  {
   "cell_type": "code",
   "execution_count": 6,
   "id": "0785b11b",
   "metadata": {},
   "outputs": [],
   "source": [
    "# reviews block\n",
    "reviews = soup.find('div', class_=\"container-fluid\").find('div', class_=\"page-content\")\n",
    "book_reviews = reviews.find_all('div', class_=\"row-fluid\")[2]"
   ]
  },
  {
   "cell_type": "code",
   "execution_count": 8,
   "id": "240b183f",
   "metadata": {},
   "outputs": [],
   "source": [
    "# book reviews\n",
    "book_reviews = book_reviews.find_all('div', class_=\"row-fluid article-row\")"
   ]
  },
  {
   "cell_type": "code",
   "execution_count": 9,
   "id": "49461c2e",
   "metadata": {},
   "outputs": [],
   "source": [
    "def strip(x):\n",
    "    return x.strip()"
   ]
  },
  {
   "cell_type": "code",
   "execution_count": 10,
   "id": "fa06bca2",
   "metadata": {},
   "outputs": [],
   "source": [
    "titles = []\n",
    "authors = []\n",
    "genres = []\n",
    "reviews = []"
   ]
  },
  {
   "cell_type": "code",
   "execution_count": 11,
   "id": "2911b3a6",
   "metadata": {
    "scrolled": true
   },
   "outputs": [
    {
     "name": "stdout",
     "output_type": "stream",
     "text": [
      "~~~~~~~~~~~~~~~~~~~~~~~~\n",
      "Author:  Honorée Fanonne Jeffers\n",
      "Title:  The Love Songs of W.E.B. Du Bois\n",
      "Genres:  ['Fiction', 'Historical Fiction']\n",
      "Review:  Honorée Fanonne Jeffers weaves an epic ancestral story, showing that where any one person comes from is much more complicated than genetic makeup.\n",
      "~~~~~~~~~~~~~~~~~~~~~~~~\n",
      "Author:  Torben Kuhlmann\n",
      "Title:  Einstein\n",
      "Genres:  [\"Children's\", \"Children's Picture Book\"]\n",
      "Review:  Author-illustrator Torben Kuhlmann explores the concept of time in another wildly imaginative mouse adventure, Einstein: The Fantastic Journey of a Mouse Through Space and Time.\n",
      "~~~~~~~~~~~~~~~~~~~~~~~~\n",
      "Author:  Christina Britton\n",
      "Title:  A Duke Worth Fighting For\n",
      "Genres:  ['Romance', 'Historical Romance']\n",
      "Review:  A Duke Worth Fighting For, the last book in Christina Britton’s Isle of Synne series, is a classic Beauty and the Beast tale.\n",
      "~~~~~~~~~~~~~~~~~~~~~~~~\n",
      "Author:  Anne Gracie\n",
      "Title:  The Scoundrel's Daughter\n",
      "Genres:  ['Romance', 'Historical Romance']\n",
      "Review:  Anne Gracie’s excellent new romance, The Scoundrel’s Daughter, accomplishes the tricky task of telling two love stories within one book.\n",
      "~~~~~~~~~~~~~~~~~~~~~~~~\n",
      "Author:  Peter F. Hamilton, Gareth L. Powell\n",
      "Title:  Light Chaser\n",
      "Genres:  ['Science Fiction & Fantasy', 'Science Fiction']\n",
      "Review:  Short, sweet and chock-full of both existential joy and dread, Peter F. Hamilton and Gareth L. Powell’s novella Light Chaser is a hard science thriller set in a utopian future.\n"
     ]
    }
   ],
   "source": [
    "for book_review in book_reviews[:5]:\n",
    "    review_post = book_review.find('div', class_=\"flex-article-content\")\n",
    "    title = review_post.find('h4').text.split(\"★\",1)[-1].strip()\n",
    "    other_data = review_post.find_all('p')\n",
    "    author = other_data[0].text.strip()\n",
    "    genre = list(map(strip, other_data[1].text.split(\"/\")))\n",
    "    review = other_data[-1].text.strip()\n",
    "    titles.append(title)\n",
    "    authors.append(author)\n",
    "    genres.append(genre)\n",
    "    reviews.append(review)\n",
    "    print(\"~~~~~~~~~~~~~~~~~~~~~~~~\")\n",
    "    print(\"Author: \",author) \n",
    "    print(\"Title: \", title)\n",
    "    print(\"Genres: \",genre)\n",
    "    print(\"Review: \",review)"
   ]
  },
  {
   "cell_type": "code",
   "execution_count": 12,
   "id": "d840d736",
   "metadata": {},
   "outputs": [],
   "source": [
    "data_dict = {\n",
    "    \"Author\" : authors,\n",
    "    \"Title\" : titles,\n",
    "    \"Genre\" : genres,\n",
    "    \"Review\" : reviews\n",
    "}"
   ]
  },
  {
   "cell_type": "code",
   "execution_count": 13,
   "id": "034ffc2b",
   "metadata": {},
   "outputs": [
    {
     "data": {
      "text/html": [
       "<div>\n",
       "<style scoped>\n",
       "    .dataframe tbody tr th:only-of-type {\n",
       "        vertical-align: middle;\n",
       "    }\n",
       "\n",
       "    .dataframe tbody tr th {\n",
       "        vertical-align: top;\n",
       "    }\n",
       "\n",
       "    .dataframe thead th {\n",
       "        text-align: right;\n",
       "    }\n",
       "</style>\n",
       "<table border=\"1\" class=\"dataframe\">\n",
       "  <thead>\n",
       "    <tr style=\"text-align: right;\">\n",
       "      <th></th>\n",
       "      <th>Author</th>\n",
       "      <th>Title</th>\n",
       "      <th>Genre</th>\n",
       "      <th>Review</th>\n",
       "    </tr>\n",
       "  </thead>\n",
       "  <tbody>\n",
       "    <tr>\n",
       "      <th>0</th>\n",
       "      <td>Honorée Fanonne Jeffers</td>\n",
       "      <td>The Love Songs of W.E.B. Du Bois</td>\n",
       "      <td>[Fiction, Historical Fiction]</td>\n",
       "      <td>Honorée Fanonne Jeffers weaves an epic ancestr...</td>\n",
       "    </tr>\n",
       "    <tr>\n",
       "      <th>1</th>\n",
       "      <td>Torben Kuhlmann</td>\n",
       "      <td>Einstein</td>\n",
       "      <td>[Children's, Children's Picture Book]</td>\n",
       "      <td>Author-illustrator Torben Kuhlmann explores th...</td>\n",
       "    </tr>\n",
       "    <tr>\n",
       "      <th>2</th>\n",
       "      <td>Christina Britton</td>\n",
       "      <td>A Duke Worth Fighting For</td>\n",
       "      <td>[Romance, Historical Romance]</td>\n",
       "      <td>A Duke Worth Fighting For, the last book in Ch...</td>\n",
       "    </tr>\n",
       "    <tr>\n",
       "      <th>3</th>\n",
       "      <td>Anne Gracie</td>\n",
       "      <td>The Scoundrel's Daughter</td>\n",
       "      <td>[Romance, Historical Romance]</td>\n",
       "      <td>Anne Gracie’s excellent new romance, The Scoun...</td>\n",
       "    </tr>\n",
       "    <tr>\n",
       "      <th>4</th>\n",
       "      <td>Peter F. Hamilton, Gareth L. Powell</td>\n",
       "      <td>Light Chaser</td>\n",
       "      <td>[Science Fiction &amp; Fantasy, Science Fiction]</td>\n",
       "      <td>Short, sweet and chock-full of both existentia...</td>\n",
       "    </tr>\n",
       "  </tbody>\n",
       "</table>\n",
       "</div>"
      ],
      "text/plain": [
       "                                Author                             Title  \\\n",
       "0              Honorée Fanonne Jeffers  The Love Songs of W.E.B. Du Bois   \n",
       "1                      Torben Kuhlmann                          Einstein   \n",
       "2                    Christina Britton         A Duke Worth Fighting For   \n",
       "3                          Anne Gracie          The Scoundrel's Daughter   \n",
       "4  Peter F. Hamilton, Gareth L. Powell                      Light Chaser   \n",
       "\n",
       "                                          Genre  \\\n",
       "0                 [Fiction, Historical Fiction]   \n",
       "1         [Children's, Children's Picture Book]   \n",
       "2                 [Romance, Historical Romance]   \n",
       "3                 [Romance, Historical Romance]   \n",
       "4  [Science Fiction & Fantasy, Science Fiction]   \n",
       "\n",
       "                                              Review  \n",
       "0  Honorée Fanonne Jeffers weaves an epic ancestr...  \n",
       "1  Author-illustrator Torben Kuhlmann explores th...  \n",
       "2  A Duke Worth Fighting For, the last book in Ch...  \n",
       "3  Anne Gracie’s excellent new romance, The Scoun...  \n",
       "4  Short, sweet and chock-full of both existentia...  "
      ]
     },
     "execution_count": 13,
     "metadata": {},
     "output_type": "execute_result"
    }
   ],
   "source": [
    "df = pd.DataFrame(data_dict)\n",
    "df.head()"
   ]
  }
 ],
 "metadata": {
  "kernelspec": {
   "display_name": "Python 3 (ipykernel)",
   "language": "python",
   "name": "python3"
  },
  "language_info": {
   "codemirror_mode": {
    "name": "ipython",
    "version": 3
   },
   "file_extension": ".py",
   "mimetype": "text/x-python",
   "name": "python",
   "nbconvert_exporter": "python",
   "pygments_lexer": "ipython3",
   "version": "3.9.5"
  }
 },
 "nbformat": 4,
 "nbformat_minor": 5
}
