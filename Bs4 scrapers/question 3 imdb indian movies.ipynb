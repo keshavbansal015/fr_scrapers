{
 "cells": [
  {
   "cell_type": "code",
   "execution_count": 50,
   "id": "969c047f",
   "metadata": {},
   "outputs": [],
   "source": [
    "from bs4 import BeautifulSoup\n",
    "import requests\n",
    "import pandas as pd"
   ]
  },
  {
   "cell_type": "code",
   "execution_count": 51,
   "id": "d3b6c93a",
   "metadata": {},
   "outputs": [],
   "source": [
    "url = 'https://www.imdb.com/'\n",
    "\n",
    "# get contents from url\n",
    "content = requests.get(url).content"
   ]
  },
  {
   "cell_type": "code",
   "execution_count": 52,
   "id": "6358b9ea",
   "metadata": {},
   "outputs": [],
   "source": [
    "# get soup\n",
    "soup = BeautifulSoup(content,'lxml') # lxml parser"
   ]
  },
  {
   "cell_type": "code",
   "execution_count": 53,
   "id": "826c831d",
   "metadata": {},
   "outputs": [],
   "source": [
    "# links in nav-bar\n",
    "hamburger_links = soup.find_all('a', role=\"menuitem\", \n",
    "        class_=\"ipc-list__item nav-link NavLink-sc-19k0khm-0 dvLykY ipc-list__item--indent-one\")"
   ]
  },
  {
   "cell_type": "code",
   "execution_count": 54,
   "id": "db09adf2",
   "metadata": {},
   "outputs": [
    {
     "name": "stdout",
     "output_type": "stream",
     "text": [
      "/chart/top/?ref_=nv_mv_250\n"
     ]
    }
   ],
   "source": [
    "# link for top rated movies\n",
    "for link in hamburger_links:\n",
    "    if (link.text == \"Top Rated Movies\"):\n",
    "        print(link['href'])\n",
    "        imdb_top_rated = link"
   ]
  },
  {
   "cell_type": "code",
   "execution_count": 56,
   "id": "e0d7e390",
   "metadata": {},
   "outputs": [],
   "source": [
    "# top imdb rated movies\n",
    "next_url = url+imdb_top_rated['href']\n",
    "# get contents from next_url \n",
    "content = requests.get(next_url).content"
   ]
  },
  {
   "cell_type": "code",
   "execution_count": 57,
   "id": "8a788ca0",
   "metadata": {},
   "outputs": [],
   "source": [
    "# soupify\n",
    "soup = BeautifulSoup(content,'lxml')"
   ]
  },
  {
   "cell_type": "code",
   "execution_count": 58,
   "id": "3bee43a3",
   "metadata": {},
   "outputs": [],
   "source": [
    "sidebar = soup.find(\"div\", {\"id\": \"sidebar\"})\n",
    "div = sidebar.find_all(\"div\", class_=\"aux-content-widget-2\")[3]\n",
    "row = div.find_all(\"div\", class_=\"table-row\")[0].find_all('a')[0]"
   ]
  },
  {
   "cell_type": "code",
   "execution_count": 61,
   "id": "26b954fc",
   "metadata": {},
   "outputs": [],
   "source": [
    "next_url = url + row['href']"
   ]
  },
  {
   "cell_type": "code",
   "execution_count": 63,
   "id": "67b0e7c3",
   "metadata": {},
   "outputs": [],
   "source": [
    "content = requests.get(next_url).content\n",
    "soup = BeautifulSoup(content, 'lxml')"
   ]
  },
  {
   "cell_type": "code",
   "execution_count": 64,
   "id": "27a49dec",
   "metadata": {},
   "outputs": [],
   "source": [
    "tables = soup.find_all(\"table\", class_=\"chart full-width\")[0].find('tbody')\n",
    "rows = tables.find_all(\"tr\")[:100]"
   ]
  },
  {
   "cell_type": "code",
   "execution_count": 65,
   "id": "4f6e678c",
   "metadata": {},
   "outputs": [],
   "source": [
    "names = []\n",
    "release_years = []\n",
    "ratings = []"
   ]
  },
  {
   "cell_type": "code",
   "execution_count": 66,
   "id": "0c7ef324",
   "metadata": {},
   "outputs": [],
   "source": [
    "for row in rows:\n",
    "    row_data = row.find_all(\"td\")\n",
    "    name, release_year = row_data[1].text.split(\"\\n\")[-3:-1]\n",
    "    rating = row_data[2].text.strip()\n",
    "    names.append(name)\n",
    "    ratings.append(rating)\n",
    "    release_years.append(release_year)"
   ]
  },
  {
   "cell_type": "code",
   "execution_count": 67,
   "id": "291e030f",
   "metadata": {},
   "outputs": [],
   "source": [
    "data_dict = {\n",
    "    \"Movies\" : names,\n",
    "    \"Realeased\" : release_years,\n",
    "    \"Rating\" : ratings\n",
    "}"
   ]
  },
  {
   "cell_type": "code",
   "execution_count": 68,
   "id": "9c1108d8",
   "metadata": {},
   "outputs": [],
   "source": [
    "df = pd.DataFrame(data_dict)"
   ]
  },
  {
   "cell_type": "code",
   "execution_count": 69,
   "id": "1a165161",
   "metadata": {},
   "outputs": [
    {
     "data": {
      "text/html": [
       "<div>\n",
       "<style scoped>\n",
       "    .dataframe tbody tr th:only-of-type {\n",
       "        vertical-align: middle;\n",
       "    }\n",
       "\n",
       "    .dataframe tbody tr th {\n",
       "        vertical-align: top;\n",
       "    }\n",
       "\n",
       "    .dataframe thead th {\n",
       "        text-align: right;\n",
       "    }\n",
       "</style>\n",
       "<table border=\"1\" class=\"dataframe\">\n",
       "  <thead>\n",
       "    <tr style=\"text-align: right;\">\n",
       "      <th></th>\n",
       "      <th>Movies</th>\n",
       "      <th>Realeased</th>\n",
       "      <th>Rating</th>\n",
       "    </tr>\n",
       "  </thead>\n",
       "  <tbody>\n",
       "    <tr>\n",
       "      <th>0</th>\n",
       "      <td>Nayakan</td>\n",
       "      <td>(1987)</td>\n",
       "      <td>8.5</td>\n",
       "    </tr>\n",
       "    <tr>\n",
       "      <th>1</th>\n",
       "      <td>Anbe Sivam</td>\n",
       "      <td>(2003)</td>\n",
       "      <td>8.5</td>\n",
       "    </tr>\n",
       "    <tr>\n",
       "      <th>2</th>\n",
       "      <td>Pariyerum Perumal</td>\n",
       "      <td>(2018)</td>\n",
       "      <td>8.5</td>\n",
       "    </tr>\n",
       "    <tr>\n",
       "      <th>3</th>\n",
       "      <td>Golmaal</td>\n",
       "      <td>(1979)</td>\n",
       "      <td>8.5</td>\n",
       "    </tr>\n",
       "    <tr>\n",
       "      <th>4</th>\n",
       "      <td>C/o Kancharapalem</td>\n",
       "      <td>(2018)</td>\n",
       "      <td>8.5</td>\n",
       "    </tr>\n",
       "  </tbody>\n",
       "</table>\n",
       "</div>"
      ],
      "text/plain": [
       "                    Movies Realeased Rating\n",
       "0                  Nayakan    (1987)    8.5\n",
       "1               Anbe Sivam    (2003)    8.5\n",
       "2        Pariyerum Perumal    (2018)    8.5\n",
       "3                  Golmaal    (1979)    8.5\n",
       "4        C/o Kancharapalem    (2018)    8.5"
      ]
     },
     "execution_count": 69,
     "metadata": {},
     "output_type": "execute_result"
    }
   ],
   "source": [
    "df.head()"
   ]
  },
  {
   "cell_type": "code",
   "execution_count": null,
   "id": "3f111ae2",
   "metadata": {},
   "outputs": [],
   "source": []
  },
  {
   "cell_type": "code",
   "execution_count": null,
   "id": "4b07a751",
   "metadata": {},
   "outputs": [],
   "source": []
  }
 ],
 "metadata": {
  "kernelspec": {
   "display_name": "Python 3 (ipykernel)",
   "language": "python",
   "name": "python3"
  },
  "language_info": {
   "codemirror_mode": {
    "name": "ipython",
    "version": 3
   },
   "file_extension": ".py",
   "mimetype": "text/x-python",
   "name": "python",
   "nbconvert_exporter": "python",
   "pygments_lexer": "ipython3",
   "version": "3.9.5"
  }
 },
 "nbformat": 4,
 "nbformat_minor": 5
}
