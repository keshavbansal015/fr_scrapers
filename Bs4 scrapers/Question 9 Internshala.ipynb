{
 "cells": [
  {
   "cell_type": "code",
   "execution_count": 1,
   "id": "f6f0e52b",
   "metadata": {},
   "outputs": [],
   "source": [
    "from bs4 import BeautifulSoup\n",
    "import requests\n",
    "import pandas as pd"
   ]
  },
  {
   "cell_type": "code",
   "execution_count": 2,
   "id": "874405c6",
   "metadata": {},
   "outputs": [],
   "source": [
    "url = \"https://internshala.com/fresher-jobs\""
   ]
  },
  {
   "cell_type": "code",
   "execution_count": 3,
   "id": "294d5830",
   "metadata": {},
   "outputs": [],
   "source": [
    "content = requests.get(url).content\n",
    "soup = BeautifulSoup(content, 'lxml')"
   ]
  },
  {
   "cell_type": "code",
   "execution_count": 4,
   "id": "5160c7d0",
   "metadata": {},
   "outputs": [],
   "source": [
    "# collect\n",
    "# job title,\n",
    "# company name, CTC, and apply date."
   ]
  },
  {
   "cell_type": "code",
   "execution_count": 5,
   "id": "e6ab7119",
   "metadata": {},
   "outputs": [],
   "source": [
    "container = soup.find('body').find_all('div')[0]\n",
    "container_fluid = container.find_all('div', class_=\"search_content\")[0]"
   ]
  },
  {
   "cell_type": "code",
   "execution_count": 6,
   "id": "b4a9633d",
   "metadata": {},
   "outputs": [],
   "source": [
    "container_fluid_1 = container_fluid.find_all('div', class_='container-fluid')[1]"
   ]
  },
  {
   "cell_type": "code",
   "execution_count": 7,
   "id": "9354f42c",
   "metadata": {},
   "outputs": [],
   "source": [
    "container_fluid_2 = container_fluid_1.find(\"div\")"
   ]
  },
  {
   "cell_type": "code",
   "execution_count": 8,
   "id": "991ad6ca",
   "metadata": {},
   "outputs": [],
   "source": [
    "container_fluid_3 = container_fluid_2.find_all('div')"
   ]
  },
  {
   "cell_type": "code",
   "execution_count": 9,
   "id": "996f8f7e",
   "metadata": {},
   "outputs": [],
   "source": [
    "for each in container_fluid_3:\n",
    "    attributes = each.attrs\n",
    "    if (attributes.get('id') == 'reference'):\n",
    "        reference = each"
   ]
  },
  {
   "cell_type": "code",
   "execution_count": 10,
   "id": "eb7095ff",
   "metadata": {},
   "outputs": [],
   "source": [
    "jobs_flex = reference.find_all('div', class_=\"internship_list_container\")[1]"
   ]
  },
  {
   "cell_type": "code",
   "execution_count": 11,
   "id": "d8339f01",
   "metadata": {},
   "outputs": [],
   "source": [
    "jobs_flex = jobs_flex.find('div')"
   ]
  },
  {
   "cell_type": "code",
   "execution_count": 12,
   "id": "b2a32dc9",
   "metadata": {},
   "outputs": [],
   "source": [
    "jobs_listed = jobs_flex.find_all('div', class_=\"container-fluid individual_internship visibilityTrackerItem\")"
   ]
  },
  {
   "cell_type": "code",
   "execution_count": 13,
   "id": "af504ca7",
   "metadata": {},
   "outputs": [
    {
     "data": {
      "text/plain": [
       "40"
      ]
     },
     "execution_count": 13,
     "metadata": {},
     "output_type": "execute_result"
    }
   ],
   "source": [
    "len(jobs_listed)"
   ]
  },
  {
   "cell_type": "code",
   "execution_count": 14,
   "id": "b07bd7cd",
   "metadata": {},
   "outputs": [],
   "source": [
    "job_titles = []\n",
    "company_names = []\n",
    "ctcs = []\n",
    "apply_dates = []"
   ]
  },
  {
   "cell_type": "code",
   "execution_count": 15,
   "id": "4ba71c83",
   "metadata": {
    "scrolled": true
   },
   "outputs": [
    {
     "name": "stdout",
     "output_type": "stream",
     "text": [
      "~~~~~~~~~~~~~~~~~~\n",
      "OMNI SPORT LEADER Decathlon Sport India Private Limited   3 - 4 LPA 18 Sep' 21\n",
      "~~~~~~~~~~~~~~~~~~\n",
      "~~~~~~~~~~~~~~~~~~\n",
      "Executive/Senior Executive - Partnerships Freecharge Payments Technology Private Limited   3 - 4.2 LPA 11 Sep' 21\n",
      "~~~~~~~~~~~~~~~~~~\n",
      "~~~~~~~~~~~~~~~~~~\n",
      "Executive - Sales Freecharge Payments Technology Private Limited   3 - 3.5 LPA 11 Sep' 21\n",
      "~~~~~~~~~~~~~~~~~~\n",
      "~~~~~~~~~~~~~~~~~~\n",
      "Junior Operations Executive Freecharge Payments Technology Private Limited   3 - 4 LPA 4 Sep' 21\n",
      "~~~~~~~~~~~~~~~~~~\n",
      "~~~~~~~~~~~~~~~~~~\n",
      "Digital Marketing Executive TradeVinder   3 - 4 LPA 24 Sep' 21\n",
      "~~~~~~~~~~~~~~~~~~\n",
      "~~~~~~~~~~~~~~~~~~\n",
      "Corporate Sales Manager FinDestination   3 LPA 24 Sep' 21\n",
      "~~~~~~~~~~~~~~~~~~\n",
      "~~~~~~~~~~~~~~~~~~\n",
      "Software Developer Innovantes IT Solutions LLP   3 - 3.1 LPA 24 Sep' 21\n",
      "~~~~~~~~~~~~~~~~~~\n",
      "~~~~~~~~~~~~~~~~~~\n",
      "Executive Assistant To Director Best Roadways Limited   3 LPA 24 Sep' 21\n",
      "~~~~~~~~~~~~~~~~~~\n",
      "~~~~~~~~~~~~~~~~~~\n",
      "C++ Embedded/Semiconductor Expert (SoC Modeling) Circuitsutra Technologies Private Limited   6 LPA 24 Sep' 21\n",
      "~~~~~~~~~~~~~~~~~~\n",
      "~~~~~~~~~~~~~~~~~~\n",
      "Mobile App Developer Cogent Web Services   3 LPA 23 Sep' 21\n",
      "~~~~~~~~~~~~~~~~~~\n",
      "~~~~~~~~~~~~~~~~~~\n",
      "Software Developer Swabhav Techlabs   3 - 3.5 LPA 23 Sep' 21\n",
      "~~~~~~~~~~~~~~~~~~\n",
      "~~~~~~~~~~~~~~~~~~\n",
      "Coding Teacher (Remote) Codingal Education Private Limited   3 - 6 LPA 23 Sep' 21\n",
      "~~~~~~~~~~~~~~~~~~\n",
      "~~~~~~~~~~~~~~~~~~\n",
      "Validation Expert Apna   3 LPA 23 Sep' 21\n",
      "~~~~~~~~~~~~~~~~~~\n",
      "~~~~~~~~~~~~~~~~~~\n",
      "Full Stack Developer ImbueDesk   5 - 9 LPA 23 Sep' 21\n",
      "~~~~~~~~~~~~~~~~~~\n",
      "~~~~~~~~~~~~~~~~~~\n",
      "Business Development Associate Tutedude   3 - 4 LPA 23 Sep' 21\n",
      "~~~~~~~~~~~~~~~~~~\n",
      "~~~~~~~~~~~~~~~~~~\n",
      "Content & E-commerce Management Executive Anmol Baby   3 - 3.1 LPA 23 Sep' 21\n",
      "~~~~~~~~~~~~~~~~~~\n",
      "~~~~~~~~~~~~~~~~~~\n",
      "Business Development Specialist The SmartWare   3 LPA 23 Sep' 21\n",
      "~~~~~~~~~~~~~~~~~~\n",
      "~~~~~~~~~~~~~~~~~~\n",
      "Assistant Manager - Outreach & Events Formskart   3 LPA 23 Sep' 21\n",
      "~~~~~~~~~~~~~~~~~~\n",
      "~~~~~~~~~~~~~~~~~~\n",
      "Investor Pitch Deck - Content Writer PitchyDeck   3 - 4.5 LPA 23 Sep' 21\n",
      "~~~~~~~~~~~~~~~~~~\n",
      "~~~~~~~~~~~~~~~~~~\n",
      "Full Stack Engineer (MERN) Softway Solutions Private Limited   5.5 - 8 LPA 23 Sep' 21\n",
      "~~~~~~~~~~~~~~~~~~\n",
      "~~~~~~~~~~~~~~~~~~\n",
      "Business Development Executive Volopay   3.6 - 5 LPA 23 Sep' 21\n",
      "~~~~~~~~~~~~~~~~~~\n",
      "~~~~~~~~~~~~~~~~~~\n",
      "Junior Graphic Designer Habitate Technologies Private Limited   3.2 - 3.6 LPA 23 Sep' 21\n",
      "~~~~~~~~~~~~~~~~~~\n",
      "~~~~~~~~~~~~~~~~~~\n",
      "Sales Development Representative Ziguar   4 - 6 LPA 23 Sep' 21\n",
      "~~~~~~~~~~~~~~~~~~\n",
      "~~~~~~~~~~~~~~~~~~\n",
      "Junior Sales Executive Picocrew   3 LPA 23 Sep' 21\n",
      "~~~~~~~~~~~~~~~~~~\n",
      "~~~~~~~~~~~~~~~~~~\n",
      "Online Coding Educator BrightChamps Tech Private Limited   3 - 7.5 LPA 23 Sep' 21\n",
      "~~~~~~~~~~~~~~~~~~\n",
      "~~~~~~~~~~~~~~~~~~\n",
      "Executive - Statistical Modeling D'Well Research   3 - 3.5 LPA 23 Sep' 21\n",
      "~~~~~~~~~~~~~~~~~~\n",
      "~~~~~~~~~~~~~~~~~~\n",
      "Customer Experience And Sales Advisor Tilfi Banaras   3 - 4.8 LPA 23 Sep' 21\n",
      "~~~~~~~~~~~~~~~~~~\n",
      "~~~~~~~~~~~~~~~~~~\n",
      "Firmware Engineer NBase2 Systems Private Limited   3 LPA 22 Sep' 21\n",
      "~~~~~~~~~~~~~~~~~~\n",
      "~~~~~~~~~~~~~~~~~~\n",
      "Junior Software Developer Finnovus Technologies Private Limited (CreditSiddhi)   3 - 3.5 LPA 22 Sep' 21\n",
      "~~~~~~~~~~~~~~~~~~\n",
      "~~~~~~~~~~~~~~~~~~\n",
      "Full Stack Engineer Getart   4 - 6 LPA 22 Sep' 21\n",
      "~~~~~~~~~~~~~~~~~~\n",
      "~~~~~~~~~~~~~~~~~~\n",
      "Backend Developer (Java/Spring Boot/Hibernate) Krenai   3.4 - 4.5 LPA 22 Sep' 21\n",
      "~~~~~~~~~~~~~~~~~~\n",
      "~~~~~~~~~~~~~~~~~~\n",
      "Associate Content Writer MiM-Essay   4 - 4.5 LPA 22 Sep' 21\n",
      "~~~~~~~~~~~~~~~~~~\n",
      "~~~~~~~~~~~~~~~~~~\n",
      "Social Media Manager Finvision Financial Services   3 - 3.5 LPA 22 Sep' 21\n",
      "~~~~~~~~~~~~~~~~~~\n",
      "~~~~~~~~~~~~~~~~~~\n",
      "Retail Store Manager Etchcraft   3 - 3.6 LPA 22 Sep' 21\n",
      "~~~~~~~~~~~~~~~~~~\n",
      "~~~~~~~~~~~~~~~~~~\n",
      "Autocad Operator Dolphin Engineers   3 LPA 22 Sep' 21\n",
      "~~~~~~~~~~~~~~~~~~\n",
      "~~~~~~~~~~~~~~~~~~\n",
      "Business Development/Growth Executive Flurn Technologies   3 - 6 LPA 22 Sep' 21\n",
      "~~~~~~~~~~~~~~~~~~\n",
      "~~~~~~~~~~~~~~~~~~\n",
      "Administration Manager Easy Entertainment   3 LPA 22 Sep' 21\n",
      "~~~~~~~~~~~~~~~~~~\n",
      "~~~~~~~~~~~~~~~~~~\n",
      "Junior Full Stack Developer BLOOMING RECALL LLP   3 - 5 LPA 22 Sep' 21\n",
      "~~~~~~~~~~~~~~~~~~\n",
      "~~~~~~~~~~~~~~~~~~\n",
      "Software Developer Trainee Pinnacle Software And Services Private Limited   3.25 - 3.75 LPA 22 Sep' 21\n",
      "~~~~~~~~~~~~~~~~~~\n",
      "~~~~~~~~~~~~~~~~~~\n",
      "UI/UX Designer Masterstroke Media Private Limited   3 - 3.5 LPA 22 Sep' 21\n",
      "~~~~~~~~~~~~~~~~~~\n"
     ]
    }
   ],
   "source": [
    "for each in jobs_listed[:]:\n",
    "    element = each.find('div', class_=\"internship_meta\")\n",
    "    element_1 = element.find('div', class_=\"individual_internship_header\")\n",
    "    element_2 = element.find('div', class_=\"individual_internship_details individual_internship_job\")\n",
    "    \n",
    "#     job title, company name\n",
    "    element_1_a, element_1_b = element_1.find(\"div\").find_all(\"div\")\n",
    "\n",
    "    print(\"~~~~~~~~~~~~~~~~~~\")    \n",
    "    job_title = element_1_a.text.strip()\n",
    "    job_titles.append(job_title)\n",
    "    \n",
    "    company_name = element_1_b.text.strip()\n",
    "    company_names.append(company_name)\n",
    "\n",
    "#     ctc, apply date\n",
    "    element_2_a, element_2_b = element_2.find('div', class_=\"internship_other_details_container\").find_all('div', class_=\"other_detail_item_row\")\n",
    "\n",
    "    ctc = element_2_a.find_all('div', class_=\"other_detail_item\")[-1].text.strip()[6:]\n",
    "    ctcs.append(ctc)\n",
    "    \n",
    "    apply_date = element_2_b.text.strip()[10:]\n",
    "    apply_dates.append(apply_date)\n",
    "    \n",
    "    print(job_title, company_name, ctc, apply_date)\n",
    "    print(\"~~~~~~~~~~~~~~~~~~\")"
   ]
  },
  {
   "cell_type": "code",
   "execution_count": 16,
   "id": "cd6417b3",
   "metadata": {},
   "outputs": [],
   "source": [
    "data_dict = {\n",
    "    \"Job Title\" : job_titles,\n",
    "    \"Company\" : company_names,\n",
    "    \"CTC\" : ctcs,\n",
    "    \"Apply by\" : apply_dates\n",
    "}"
   ]
  },
  {
   "cell_type": "code",
   "execution_count": 17,
   "id": "f4584291",
   "metadata": {},
   "outputs": [],
   "source": [
    "df = pd.DataFrame(data_dict)\n",
    "df.index = df.index+1"
   ]
  },
  {
   "cell_type": "code",
   "execution_count": 18,
   "id": "8a23dbc1",
   "metadata": {},
   "outputs": [
    {
     "data": {
      "text/html": [
       "<div>\n",
       "<style scoped>\n",
       "    .dataframe tbody tr th:only-of-type {\n",
       "        vertical-align: middle;\n",
       "    }\n",
       "\n",
       "    .dataframe tbody tr th {\n",
       "        vertical-align: top;\n",
       "    }\n",
       "\n",
       "    .dataframe thead th {\n",
       "        text-align: right;\n",
       "    }\n",
       "</style>\n",
       "<table border=\"1\" class=\"dataframe\">\n",
       "  <thead>\n",
       "    <tr style=\"text-align: right;\">\n",
       "      <th></th>\n",
       "      <th>Job Title</th>\n",
       "      <th>Company</th>\n",
       "      <th>CTC</th>\n",
       "      <th>Apply by</th>\n",
       "    </tr>\n",
       "  </thead>\n",
       "  <tbody>\n",
       "    <tr>\n",
       "      <th>1</th>\n",
       "      <td>OMNI SPORT LEADER</td>\n",
       "      <td>Decathlon Sport India Private Limited</td>\n",
       "      <td>3 - 4 LPA</td>\n",
       "      <td>18 Sep' 21</td>\n",
       "    </tr>\n",
       "    <tr>\n",
       "      <th>2</th>\n",
       "      <td>Executive/Senior Executive - Partnerships</td>\n",
       "      <td>Freecharge Payments Technology Private Limited</td>\n",
       "      <td>3 - 4.2 LPA</td>\n",
       "      <td>11 Sep' 21</td>\n",
       "    </tr>\n",
       "    <tr>\n",
       "      <th>3</th>\n",
       "      <td>Executive - Sales</td>\n",
       "      <td>Freecharge Payments Technology Private Limited</td>\n",
       "      <td>3 - 3.5 LPA</td>\n",
       "      <td>11 Sep' 21</td>\n",
       "    </tr>\n",
       "    <tr>\n",
       "      <th>4</th>\n",
       "      <td>Junior Operations Executive</td>\n",
       "      <td>Freecharge Payments Technology Private Limited</td>\n",
       "      <td>3 - 4 LPA</td>\n",
       "      <td>4 Sep' 21</td>\n",
       "    </tr>\n",
       "    <tr>\n",
       "      <th>5</th>\n",
       "      <td>Digital Marketing Executive</td>\n",
       "      <td>TradeVinder</td>\n",
       "      <td>3 - 4 LPA</td>\n",
       "      <td>24 Sep' 21</td>\n",
       "    </tr>\n",
       "  </tbody>\n",
       "</table>\n",
       "</div>"
      ],
      "text/plain": [
       "                                   Job Title  \\\n",
       "1                          OMNI SPORT LEADER   \n",
       "2  Executive/Senior Executive - Partnerships   \n",
       "3                          Executive - Sales   \n",
       "4                Junior Operations Executive   \n",
       "5                Digital Marketing Executive   \n",
       "\n",
       "                                          Company            CTC    Apply by  \n",
       "1           Decathlon Sport India Private Limited      3 - 4 LPA  18 Sep' 21  \n",
       "2  Freecharge Payments Technology Private Limited    3 - 4.2 LPA  11 Sep' 21  \n",
       "3  Freecharge Payments Technology Private Limited    3 - 3.5 LPA  11 Sep' 21  \n",
       "4  Freecharge Payments Technology Private Limited      3 - 4 LPA   4 Sep' 21  \n",
       "5                                     TradeVinder      3 - 4 LPA  24 Sep' 21  "
      ]
     },
     "execution_count": 18,
     "metadata": {},
     "output_type": "execute_result"
    }
   ],
   "source": [
    "df.head()"
   ]
  },
  {
   "cell_type": "code",
   "execution_count": null,
   "id": "3c377716",
   "metadata": {},
   "outputs": [],
   "source": []
  }
 ],
 "metadata": {
  "kernelspec": {
   "display_name": "Python 3 (ipykernel)",
   "language": "python",
   "name": "python3"
  },
  "language_info": {
   "codemirror_mode": {
    "name": "ipython",
    "version": 3
   },
   "file_extension": ".py",
   "mimetype": "text/x-python",
   "name": "python",
   "nbconvert_exporter": "python",
   "pygments_lexer": "ipython3",
   "version": "3.9.5"
  }
 },
 "nbformat": 4,
 "nbformat_minor": 5
}
